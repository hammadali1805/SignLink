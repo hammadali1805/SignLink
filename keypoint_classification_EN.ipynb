{
  "cells": [
    {
      "cell_type": "code",
      "execution_count": 1,
      "metadata": {
        "id": "igMyGnjE9hEp"
      },
      "outputs": [],
      "source": [
        "import csv\n",
        "\n",
        "import numpy as np\n",
        "import tensorflow as tf\n",
        "from sklearn.model_selection import train_test_split\n",
        "\n",
        "RANDOM_SEED = 42"
      ]
    },
    {
      "cell_type": "markdown",
      "metadata": {
        "id": "t2HDvhIu9hEr"
      },
      "source": [
        "# Specify each path"
      ]
    },
    {
      "cell_type": "code",
      "execution_count": 2,
      "metadata": {
        "id": "9NvZP2Zn9hEy"
      },
      "outputs": [],
      "source": [
        "dataset = 'model/keypoint_classifier/keypoint.csv'\n",
        "model_save_path = 'model/keypoint_classifier/keypoint_classifier.hdf5'\n",
        "tflite_save_path = 'model/keypoint_classifier/keypoint_classifier.tflite'"
      ]
    },
    {
      "cell_type": "markdown",
      "metadata": {
        "id": "s5oMH7x19hEz"
      },
      "source": [
        "# Set number of classes"
      ]
    },
    {
      "cell_type": "code",
      "execution_count": 3,
      "metadata": {
        "id": "du4kodXL9hEz"
      },
      "outputs": [],
      "source": [
        "NUM_CLASSES = 7"
      ]
    },
    {
      "cell_type": "markdown",
      "metadata": {
        "id": "XjnL0uso9hEz"
      },
      "source": [
        "# Dataset reading"
      ]
    },
    {
      "cell_type": "code",
      "execution_count": 4,
      "metadata": {
        "id": "QT5ZqtEz9hE0"
      },
      "outputs": [],
      "source": [
        "X_dataset = np.loadtxt(dataset, delimiter=',', dtype='float32', usecols=list(range(1, (21 * 2) + 1)))"
      ]
    },
    {
      "cell_type": "code",
      "execution_count": 5,
      "metadata": {
        "id": "QmoKFsp49hE0"
      },
      "outputs": [],
      "source": [
        "y_dataset = np.loadtxt(dataset, delimiter=',', dtype='int32', usecols=(0))"
      ]
    },
    {
      "cell_type": "code",
      "execution_count": 6,
      "metadata": {
        "id": "xQU7JTZ_9hE0"
      },
      "outputs": [],
      "source": [
        "X_train, X_test, y_train, y_test = train_test_split(X_dataset, y_dataset, train_size=0.75, random_state=RANDOM_SEED)"
      ]
    },
    {
      "cell_type": "markdown",
      "metadata": {
        "id": "mxK_lETT9hE0"
      },
      "source": [
        "# Model building"
      ]
    },
    {
      "cell_type": "code",
      "execution_count": 7,
      "metadata": {
        "id": "vHBmUf1t9hE1"
      },
      "outputs": [],
      "source": [
        "model = tf.keras.models.Sequential([\n",
        "    tf.keras.layers.Input((21 * 2, )),\n",
        "    tf.keras.layers.Dropout(0.2),\n",
        "    tf.keras.layers.Dense(20, activation='relu'),\n",
        "    tf.keras.layers.Dropout(0.4),\n",
        "    tf.keras.layers.Dense(10, activation='relu'),\n",
        "    tf.keras.layers.Dense(NUM_CLASSES, activation='softmax')\n",
        "])"
      ]
    },
    {
      "cell_type": "code",
      "execution_count": 8,
      "metadata": {
        "colab": {
          "base_uri": "https://localhost:8080/"
        },
        "id": "ypqky9tc9hE1",
        "outputId": "5db082bb-30e3-4110-bf63-a1ee777ecd46"
      },
      "outputs": [
        {
          "name": "stdout",
          "output_type": "stream",
          "text": [
            "Model: \"sequential\"\n",
            "_________________________________________________________________\n",
            " Layer (type)                Output Shape              Param #   \n",
            "=================================================================\n",
            " dropout (Dropout)           (None, 42)                0         \n",
            "                                                                 \n",
            " dense (Dense)               (None, 20)                860       \n",
            "                                                                 \n",
            " dropout_1 (Dropout)         (None, 20)                0         \n",
            "                                                                 \n",
            " dense_1 (Dense)             (None, 10)                210       \n",
            "                                                                 \n",
            " dense_2 (Dense)             (None, 7)                 77        \n",
            "                                                                 \n",
            "=================================================================\n",
            "Total params: 1147 (4.48 KB)\n",
            "Trainable params: 1147 (4.48 KB)\n",
            "Non-trainable params: 0 (0.00 Byte)\n",
            "_________________________________________________________________\n"
          ]
        }
      ],
      "source": [
        "model.summary()  # tf.keras.utils.plot_model(model, show_shapes=True)"
      ]
    },
    {
      "cell_type": "code",
      "execution_count": 9,
      "metadata": {
        "id": "MbMjOflQ9hE1"
      },
      "outputs": [],
      "source": [
        "# Model checkpoint callback\n",
        "cp_callback = tf.keras.callbacks.ModelCheckpoint(\n",
        "    model_save_path, verbose=1, save_weights_only=False)\n",
        "# Callback for early stopping\n",
        "es_callback = tf.keras.callbacks.EarlyStopping(patience=20, verbose=1)"
      ]
    },
    {
      "cell_type": "code",
      "execution_count": 10,
      "metadata": {
        "id": "c3Dac0M_9hE2"
      },
      "outputs": [],
      "source": [
        "# Model compilation\n",
        "model.compile(\n",
        "    optimizer='adam',\n",
        "    loss='sparse_categorical_crossentropy',\n",
        "    metrics=['accuracy']\n",
        ")"
      ]
    },
    {
      "cell_type": "markdown",
      "metadata": {
        "id": "7XI0j1Iu9hE2"
      },
      "source": [
        "# Model training"
      ]
    },
    {
      "cell_type": "code",
      "execution_count": 11,
      "metadata": {
        "colab": {
          "base_uri": "https://localhost:8080/"
        },
        "id": "WirBl-JE9hE3",
        "outputId": "71b30ca2-8294-4d9d-8aa2-800d90d399de",
        "scrolled": true
      },
      "outputs": [
        {
          "name": "stdout",
          "output_type": "stream",
          "text": [
            "Epoch 1/1000\n",
            "22/40 [===============>..............] - ETA: 0s - loss: 1.9232 - accuracy: 0.2152 \n",
            "Epoch 1: saving model to model/keypoint_classifier\\keypoint_classifier.hdf5\n",
            "40/40 [==============================] - 1s 10ms/step - loss: 1.9030 - accuracy: 0.2375 - val_loss: 1.8322 - val_accuracy: 0.3126\n",
            "Epoch 2/1000\n",
            "40/40 [==============================] - ETA: 0s - loss: 1.8192 - accuracy: 0.2935"
          ]
        },
        {
          "name": "stderr",
          "output_type": "stream",
          "text": [
            "c:\\Users\\hamma\\AppData\\Local\\Programs\\Python\\Python311\\Lib\\site-packages\\keras\\src\\engine\\training.py:3000: UserWarning: You are saving your model as an HDF5 file via `model.save()`. This file format is considered legacy. We recommend using instead the native Keras format, e.g. `model.save('my_model.keras')`.\n",
            "  saving_api.save_model(\n"
          ]
        },
        {
          "name": "stdout",
          "output_type": "stream",
          "text": [
            "\n",
            "Epoch 2: saving model to model/keypoint_classifier\\keypoint_classifier.hdf5\n",
            "40/40 [==============================] - 0s 5ms/step - loss: 1.8192 - accuracy: 0.2935 - val_loss: 1.7488 - val_accuracy: 0.3185\n",
            "Epoch 3/1000\n",
            "23/40 [================>.............] - ETA: 0s - loss: 1.7637 - accuracy: 0.3264\n",
            "Epoch 3: saving model to model/keypoint_classifier\\keypoint_classifier.hdf5\n",
            "40/40 [==============================] - 0s 4ms/step - loss: 1.7595 - accuracy: 0.3240 - val_loss: 1.6714 - val_accuracy: 0.3903\n",
            "Epoch 4/1000\n",
            "24/40 [=================>............] - ETA: 0s - loss: 1.7122 - accuracy: 0.3431\n",
            "Epoch 4: saving model to model/keypoint_classifier\\keypoint_classifier.hdf5\n",
            "40/40 [==============================] - 0s 4ms/step - loss: 1.7015 - accuracy: 0.3487 - val_loss: 1.5874 - val_accuracy: 0.4686\n",
            "Epoch 5/1000\n",
            "23/40 [================>.............] - ETA: 0s - loss: 1.6772 - accuracy: 0.3509\n",
            "Epoch 5: saving model to model/keypoint_classifier\\keypoint_classifier.hdf5\n",
            "40/40 [==============================] - 0s 4ms/step - loss: 1.6563 - accuracy: 0.3667 - val_loss: 1.5148 - val_accuracy: 0.4923\n",
            "Epoch 6/1000\n",
            "24/40 [=================>............] - ETA: 0s - loss: 1.6057 - accuracy: 0.3870\n",
            "Epoch 6: saving model to model/keypoint_classifier\\keypoint_classifier.hdf5\n",
            "40/40 [==============================] - 0s 4ms/step - loss: 1.6041 - accuracy: 0.3867 - val_loss: 1.4523 - val_accuracy: 0.5024\n",
            "Epoch 7/1000\n",
            "38/40 [===========================>..] - ETA: 0s - loss: 1.5733 - accuracy: 0.3970\n",
            "Epoch 7: saving model to model/keypoint_classifier\\keypoint_classifier.hdf5\n",
            "40/40 [==============================] - 0s 5ms/step - loss: 1.5712 - accuracy: 0.3975 - val_loss: 1.3961 - val_accuracy: 0.5208\n",
            "Epoch 8/1000\n",
            "21/40 [==============>...............] - ETA: 0s - loss: 1.5544 - accuracy: 0.4074\n",
            "Epoch 8: saving model to model/keypoint_classifier\\keypoint_classifier.hdf5\n",
            "40/40 [==============================] - 0s 4ms/step - loss: 1.5497 - accuracy: 0.4120 - val_loss: 1.3505 - val_accuracy: 0.5243\n",
            "Epoch 9/1000\n",
            "22/40 [===============>..............] - ETA: 0s - loss: 1.5084 - accuracy: 0.4258\n",
            "Epoch 9: saving model to model/keypoint_classifier\\keypoint_classifier.hdf5\n",
            "40/40 [==============================] - 0s 4ms/step - loss: 1.5145 - accuracy: 0.4248 - val_loss: 1.3166 - val_accuracy: 0.5326\n",
            "Epoch 10/1000\n",
            "24/40 [=================>............] - ETA: 0s - loss: 1.4990 - accuracy: 0.4264\n",
            "Epoch 10: saving model to model/keypoint_classifier\\keypoint_classifier.hdf5\n",
            "40/40 [==============================] - 0s 4ms/step - loss: 1.4930 - accuracy: 0.4302 - val_loss: 1.2786 - val_accuracy: 0.5469\n",
            "Epoch 11/1000\n",
            "38/40 [===========================>..] - ETA: 0s - loss: 1.4609 - accuracy: 0.4379\n",
            "Epoch 11: saving model to model/keypoint_classifier\\keypoint_classifier.hdf5\n",
            "40/40 [==============================] - 0s 5ms/step - loss: 1.4607 - accuracy: 0.4357 - val_loss: 1.2408 - val_accuracy: 0.5540\n",
            "Epoch 12/1000\n",
            "26/40 [==================>...........] - ETA: 0s - loss: 1.4744 - accuracy: 0.4294\n",
            "Epoch 12: saving model to model/keypoint_classifier\\keypoint_classifier.hdf5\n",
            "40/40 [==============================] - 0s 4ms/step - loss: 1.4518 - accuracy: 0.4420 - val_loss: 1.2150 - val_accuracy: 0.5504\n",
            "Epoch 13/1000\n",
            "22/40 [===============>..............] - ETA: 0s - loss: 1.4283 - accuracy: 0.4446\n",
            "Epoch 13: saving model to model/keypoint_classifier\\keypoint_classifier.hdf5\n",
            "40/40 [==============================] - 0s 4ms/step - loss: 1.4184 - accuracy: 0.4547 - val_loss: 1.1842 - val_accuracy: 0.5842\n",
            "Epoch 14/1000\n",
            "23/40 [================>.............] - ETA: 0s - loss: 1.3927 - accuracy: 0.4589\n",
            "Epoch 14: saving model to model/keypoint_classifier\\keypoint_classifier.hdf5\n",
            "40/40 [==============================] - 0s 4ms/step - loss: 1.3965 - accuracy: 0.4577 - val_loss: 1.1564 - val_accuracy: 0.5949\n",
            "Epoch 15/1000\n",
            "22/40 [===============>..............] - ETA: 0s - loss: 1.3716 - accuracy: 0.4783\n",
            "Epoch 15: saving model to model/keypoint_classifier\\keypoint_classifier.hdf5\n",
            "40/40 [==============================] - 0s 4ms/step - loss: 1.3702 - accuracy: 0.4697 - val_loss: 1.1194 - val_accuracy: 0.6151\n",
            "Epoch 16/1000\n",
            "22/40 [===============>..............] - ETA: 0s - loss: 1.3573 - accuracy: 0.4854\n",
            "Epoch 16: saving model to model/keypoint_classifier\\keypoint_classifier.hdf5\n",
            "40/40 [==============================] - 0s 4ms/step - loss: 1.3499 - accuracy: 0.4828 - val_loss: 1.0914 - val_accuracy: 0.6192\n",
            "Epoch 17/1000\n",
            "24/40 [=================>............] - ETA: 0s - loss: 1.3704 - accuracy: 0.4746\n",
            "Epoch 17: saving model to model/keypoint_classifier\\keypoint_classifier.hdf5\n",
            "40/40 [==============================] - 0s 4ms/step - loss: 1.3536 - accuracy: 0.4828 - val_loss: 1.0633 - val_accuracy: 0.6388\n",
            "Epoch 18/1000\n",
            "22/40 [===============>..............] - ETA: 0s - loss: 1.3417 - accuracy: 0.4851\n",
            "Epoch 18: saving model to model/keypoint_classifier\\keypoint_classifier.hdf5\n",
            "40/40 [==============================] - 0s 5ms/step - loss: 1.3345 - accuracy: 0.4862 - val_loss: 1.0375 - val_accuracy: 0.6536\n",
            "Epoch 19/1000\n",
            "38/40 [===========================>..] - ETA: 0s - loss: 1.3113 - accuracy: 0.4979\n",
            "Epoch 19: saving model to model/keypoint_classifier\\keypoint_classifier.hdf5\n",
            "40/40 [==============================] - 0s 5ms/step - loss: 1.3115 - accuracy: 0.4962 - val_loss: 1.0120 - val_accuracy: 0.6619\n",
            "Epoch 20/1000\n",
            "39/40 [============================>.] - ETA: 0s - loss: 1.3101 - accuracy: 0.5024\n",
            "Epoch 20: saving model to model/keypoint_classifier\\keypoint_classifier.hdf5\n",
            "40/40 [==============================] - 0s 5ms/step - loss: 1.3080 - accuracy: 0.5038 - val_loss: 0.9941 - val_accuracy: 0.6809\n",
            "Epoch 21/1000\n",
            "40/40 [==============================] - ETA: 0s - loss: 1.2732 - accuracy: 0.5190\n",
            "Epoch 21: saving model to model/keypoint_classifier\\keypoint_classifier.hdf5\n",
            "40/40 [==============================] - 0s 5ms/step - loss: 1.2732 - accuracy: 0.5190 - val_loss: 0.9628 - val_accuracy: 0.7023\n",
            "Epoch 22/1000\n",
            "37/40 [==========================>...] - ETA: 0s - loss: 1.2585 - accuracy: 0.5211\n",
            "Epoch 22: saving model to model/keypoint_classifier\\keypoint_classifier.hdf5\n",
            "40/40 [==============================] - 0s 5ms/step - loss: 1.2588 - accuracy: 0.5210 - val_loss: 0.9322 - val_accuracy: 0.7260\n",
            "Epoch 23/1000\n",
            "23/40 [================>.............] - ETA: 0s - loss: 1.2303 - accuracy: 0.5323\n",
            "Epoch 23: saving model to model/keypoint_classifier\\keypoint_classifier.hdf5\n",
            "40/40 [==============================] - 0s 4ms/step - loss: 1.2269 - accuracy: 0.5390 - val_loss: 0.9059 - val_accuracy: 0.7521\n",
            "Epoch 24/1000\n",
            "39/40 [============================>.] - ETA: 0s - loss: 1.2117 - accuracy: 0.5463\n",
            "Epoch 24: saving model to model/keypoint_classifier\\keypoint_classifier.hdf5\n",
            "40/40 [==============================] - 0s 6ms/step - loss: 1.2105 - accuracy: 0.5471 - val_loss: 0.8825 - val_accuracy: 0.7758\n",
            "Epoch 25/1000\n",
            "21/40 [==============>...............] - ETA: 0s - loss: 1.2025 - accuracy: 0.5391\n",
            "Epoch 25: saving model to model/keypoint_classifier\\keypoint_classifier.hdf5\n",
            "40/40 [==============================] - 0s 5ms/step - loss: 1.2084 - accuracy: 0.5360 - val_loss: 0.8637 - val_accuracy: 0.7734\n",
            "Epoch 26/1000\n",
            "39/40 [============================>.] - ETA: 0s - loss: 1.1983 - accuracy: 0.5409\n",
            "Epoch 26: saving model to model/keypoint_classifier\\keypoint_classifier.hdf5\n",
            "40/40 [==============================] - 0s 5ms/step - loss: 1.1971 - accuracy: 0.5413 - val_loss: 0.8472 - val_accuracy: 0.7918\n",
            "Epoch 27/1000\n",
            "39/40 [============================>.] - ETA: 0s - loss: 1.1791 - accuracy: 0.5461\n",
            "Epoch 27: saving model to model/keypoint_classifier\\keypoint_classifier.hdf5\n",
            "40/40 [==============================] - 0s 5ms/step - loss: 1.1807 - accuracy: 0.5449 - val_loss: 0.8255 - val_accuracy: 0.8138\n",
            "Epoch 28/1000\n",
            "38/40 [===========================>..] - ETA: 0s - loss: 1.1590 - accuracy: 0.5580\n",
            "Epoch 28: saving model to model/keypoint_classifier\\keypoint_classifier.hdf5\n",
            "40/40 [==============================] - 0s 5ms/step - loss: 1.1573 - accuracy: 0.5597 - val_loss: 0.8031 - val_accuracy: 0.8197\n",
            "Epoch 29/1000\n",
            "37/40 [==========================>...] - ETA: 0s - loss: 1.1606 - accuracy: 0.5655\n",
            "Epoch 29: saving model to model/keypoint_classifier\\keypoint_classifier.hdf5\n",
            "40/40 [==============================] - 0s 5ms/step - loss: 1.1609 - accuracy: 0.5663 - val_loss: 0.7883 - val_accuracy: 0.8060\n",
            "Epoch 30/1000\n",
            "39/40 [============================>.] - ETA: 0s - loss: 1.1434 - accuracy: 0.5661\n",
            "Epoch 30: saving model to model/keypoint_classifier\\keypoint_classifier.hdf5\n",
            "40/40 [==============================] - 0s 5ms/step - loss: 1.1434 - accuracy: 0.5657 - val_loss: 0.7740 - val_accuracy: 0.8250\n",
            "Epoch 31/1000\n",
            "40/40 [==============================] - ETA: 0s - loss: 1.1376 - accuracy: 0.5740\n",
            "Epoch 31: saving model to model/keypoint_classifier\\keypoint_classifier.hdf5\n",
            "40/40 [==============================] - 0s 5ms/step - loss: 1.1376 - accuracy: 0.5740 - val_loss: 0.7696 - val_accuracy: 0.8286\n",
            "Epoch 32/1000\n",
            "40/40 [==============================] - ETA: 0s - loss: 1.1289 - accuracy: 0.5779\n",
            "Epoch 32: saving model to model/keypoint_classifier\\keypoint_classifier.hdf5\n",
            "40/40 [==============================] - 0s 5ms/step - loss: 1.1289 - accuracy: 0.5779 - val_loss: 0.7596 - val_accuracy: 0.8428\n",
            "Epoch 33/1000\n",
            "39/40 [============================>.] - ETA: 0s - loss: 1.0949 - accuracy: 0.5871\n",
            "Epoch 33: saving model to model/keypoint_classifier\\keypoint_classifier.hdf5\n",
            "40/40 [==============================] - 0s 5ms/step - loss: 1.0961 - accuracy: 0.5866 - val_loss: 0.7339 - val_accuracy: 0.8499\n",
            "Epoch 34/1000\n",
            "22/40 [===============>..............] - ETA: 0s - loss: 1.0971 - accuracy: 0.5803\n",
            "Epoch 34: saving model to model/keypoint_classifier\\keypoint_classifier.hdf5\n",
            "40/40 [==============================] - 0s 5ms/step - loss: 1.0860 - accuracy: 0.5902 - val_loss: 0.7250 - val_accuracy: 0.8452\n",
            "Epoch 35/1000\n",
            "39/40 [============================>.] - ETA: 0s - loss: 1.0925 - accuracy: 0.5950\n",
            "Epoch 35: saving model to model/keypoint_classifier\\keypoint_classifier.hdf5\n",
            "40/40 [==============================] - 0s 5ms/step - loss: 1.0926 - accuracy: 0.5953 - val_loss: 0.7199 - val_accuracy: 0.8624\n",
            "Epoch 36/1000\n",
            "23/40 [================>.............] - ETA: 0s - loss: 1.0847 - accuracy: 0.5982\n",
            "Epoch 36: saving model to model/keypoint_classifier\\keypoint_classifier.hdf5\n",
            "40/40 [==============================] - 0s 4ms/step - loss: 1.0822 - accuracy: 0.5924 - val_loss: 0.7050 - val_accuracy: 0.8547\n",
            "Epoch 37/1000\n",
            "22/40 [===============>..............] - ETA: 0s - loss: 1.0558 - accuracy: 0.5987\n",
            "Epoch 37: saving model to model/keypoint_classifier\\keypoint_classifier.hdf5\n",
            "40/40 [==============================] - 0s 4ms/step - loss: 1.0729 - accuracy: 0.5983 - val_loss: 0.6914 - val_accuracy: 0.8517\n",
            "Epoch 38/1000\n",
            "40/40 [==============================] - ETA: 0s - loss: 1.0706 - accuracy: 0.5934\n",
            "Epoch 38: saving model to model/keypoint_classifier\\keypoint_classifier.hdf5\n",
            "40/40 [==============================] - 0s 5ms/step - loss: 1.0706 - accuracy: 0.5934 - val_loss: 0.6835 - val_accuracy: 0.8624\n",
            "Epoch 39/1000\n",
            "24/40 [=================>............] - ETA: 0s - loss: 1.0726 - accuracy: 0.5951\n",
            "Epoch 39: saving model to model/keypoint_classifier\\keypoint_classifier.hdf5\n",
            "40/40 [==============================] - 0s 4ms/step - loss: 1.0618 - accuracy: 0.6036 - val_loss: 0.6915 - val_accuracy: 0.8636\n",
            "Epoch 40/1000\n",
            "24/40 [=================>............] - ETA: 0s - loss: 1.0489 - accuracy: 0.6074\n",
            "Epoch 40: saving model to model/keypoint_classifier\\keypoint_classifier.hdf5\n",
            "40/40 [==============================] - 0s 4ms/step - loss: 1.0511 - accuracy: 0.6066 - val_loss: 0.6720 - val_accuracy: 0.8606\n",
            "Epoch 41/1000\n",
            "22/40 [===============>..............] - ETA: 0s - loss: 1.0484 - accuracy: 0.6072\n",
            "Epoch 41: saving model to model/keypoint_classifier\\keypoint_classifier.hdf5\n",
            "40/40 [==============================] - 0s 5ms/step - loss: 1.0483 - accuracy: 0.6106 - val_loss: 0.6610 - val_accuracy: 0.8701\n",
            "Epoch 42/1000\n",
            "40/40 [==============================] - ETA: 0s - loss: 1.0578 - accuracy: 0.6044\n",
            "Epoch 42: saving model to model/keypoint_classifier\\keypoint_classifier.hdf5\n",
            "40/40 [==============================] - 0s 5ms/step - loss: 1.0578 - accuracy: 0.6044 - val_loss: 0.6705 - val_accuracy: 0.8695\n",
            "Epoch 43/1000\n",
            "22/40 [===============>..............] - ETA: 0s - loss: 1.0444 - accuracy: 0.6151\n",
            "Epoch 43: saving model to model/keypoint_classifier\\keypoint_classifier.hdf5\n",
            "40/40 [==============================] - 0s 4ms/step - loss: 1.0460 - accuracy: 0.6106 - val_loss: 0.6555 - val_accuracy: 0.8660\n",
            "Epoch 44/1000\n",
            "39/40 [============================>.] - ETA: 0s - loss: 1.0491 - accuracy: 0.6024\n",
            "Epoch 44: saving model to model/keypoint_classifier\\keypoint_classifier.hdf5\n",
            "40/40 [==============================] - 0s 5ms/step - loss: 1.0494 - accuracy: 0.6025 - val_loss: 0.6499 - val_accuracy: 0.8749\n",
            "Epoch 45/1000\n",
            "38/40 [===========================>..] - ETA: 0s - loss: 1.0433 - accuracy: 0.6090\n",
            "Epoch 45: saving model to model/keypoint_classifier\\keypoint_classifier.hdf5\n",
            "40/40 [==============================] - 0s 6ms/step - loss: 1.0428 - accuracy: 0.6084 - val_loss: 0.6502 - val_accuracy: 0.8760\n",
            "Epoch 46/1000\n",
            "29/40 [====================>.........] - ETA: 0s - loss: 1.0262 - accuracy: 0.6153\n",
            "Epoch 46: saving model to model/keypoint_classifier\\keypoint_classifier.hdf5\n",
            "40/40 [==============================] - 0s 4ms/step - loss: 1.0205 - accuracy: 0.6155 - val_loss: 0.6306 - val_accuracy: 0.8808\n",
            "Epoch 47/1000\n",
            "40/40 [==============================] - ETA: 0s - loss: 1.0379 - accuracy: 0.6141\n",
            "Epoch 47: saving model to model/keypoint_classifier\\keypoint_classifier.hdf5\n",
            "40/40 [==============================] - 0s 5ms/step - loss: 1.0379 - accuracy: 0.6141 - val_loss: 0.6343 - val_accuracy: 0.8731\n",
            "Epoch 48/1000\n",
            "23/40 [================>.............] - ETA: 0s - loss: 1.0195 - accuracy: 0.6131\n",
            "Epoch 48: saving model to model/keypoint_classifier\\keypoint_classifier.hdf5\n",
            "40/40 [==============================] - 0s 4ms/step - loss: 1.0149 - accuracy: 0.6203 - val_loss: 0.6331 - val_accuracy: 0.8689\n",
            "Epoch 49/1000\n",
            "40/40 [==============================] - ETA: 0s - loss: 1.0264 - accuracy: 0.6199\n",
            "Epoch 49: saving model to model/keypoint_classifier\\keypoint_classifier.hdf5\n",
            "40/40 [==============================] - 0s 5ms/step - loss: 1.0264 - accuracy: 0.6199 - val_loss: 0.6280 - val_accuracy: 0.8790\n",
            "Epoch 50/1000\n",
            "21/40 [==============>...............] - ETA: 0s - loss: 1.0175 - accuracy: 0.6224\n",
            "Epoch 50: saving model to model/keypoint_classifier\\keypoint_classifier.hdf5\n",
            "40/40 [==============================] - 0s 4ms/step - loss: 1.0238 - accuracy: 0.6210 - val_loss: 0.6216 - val_accuracy: 0.8778\n",
            "Epoch 51/1000\n",
            "20/40 [==============>...............] - ETA: 0s - loss: 0.9828 - accuracy: 0.6332\n",
            "Epoch 51: saving model to model/keypoint_classifier\\keypoint_classifier.hdf5\n",
            "40/40 [==============================] - 0s 5ms/step - loss: 0.9928 - accuracy: 0.6319 - val_loss: 0.6172 - val_accuracy: 0.8754\n",
            "Epoch 52/1000\n",
            "39/40 [============================>.] - ETA: 0s - loss: 1.0098 - accuracy: 0.6270\n",
            "Epoch 52: saving model to model/keypoint_classifier\\keypoint_classifier.hdf5\n",
            "40/40 [==============================] - 0s 5ms/step - loss: 1.0135 - accuracy: 0.6252 - val_loss: 0.6121 - val_accuracy: 0.8820\n",
            "Epoch 53/1000\n",
            "39/40 [============================>.] - ETA: 0s - loss: 1.0129 - accuracy: 0.6164\n",
            "Epoch 53: saving model to model/keypoint_classifier\\keypoint_classifier.hdf5\n",
            "40/40 [==============================] - 0s 5ms/step - loss: 1.0132 - accuracy: 0.6159 - val_loss: 0.6161 - val_accuracy: 0.8766\n",
            "Epoch 54/1000\n",
            "22/40 [===============>..............] - ETA: 0s - loss: 1.0174 - accuracy: 0.6268\n",
            "Epoch 54: saving model to model/keypoint_classifier\\keypoint_classifier.hdf5\n",
            "40/40 [==============================] - 0s 5ms/step - loss: 1.0215 - accuracy: 0.6226 - val_loss: 0.6106 - val_accuracy: 0.8778\n",
            "Epoch 55/1000\n",
            "39/40 [============================>.] - ETA: 0s - loss: 0.9974 - accuracy: 0.6262\n",
            "Epoch 55: saving model to model/keypoint_classifier\\keypoint_classifier.hdf5\n",
            "40/40 [==============================] - 0s 5ms/step - loss: 0.9965 - accuracy: 0.6266 - val_loss: 0.6095 - val_accuracy: 0.8778\n",
            "Epoch 56/1000\n",
            "24/40 [=================>............] - ETA: 0s - loss: 0.9983 - accuracy: 0.6211\n",
            "Epoch 56: saving model to model/keypoint_classifier\\keypoint_classifier.hdf5\n",
            "40/40 [==============================] - 0s 4ms/step - loss: 0.9917 - accuracy: 0.6254 - val_loss: 0.5897 - val_accuracy: 0.8861\n",
            "Epoch 57/1000\n",
            "23/40 [================>.............] - ETA: 0s - loss: 0.9923 - accuracy: 0.6315\n",
            "Epoch 57: saving model to model/keypoint_classifier\\keypoint_classifier.hdf5\n",
            "40/40 [==============================] - 0s 4ms/step - loss: 0.9851 - accuracy: 0.6392 - val_loss: 0.5896 - val_accuracy: 0.8820\n",
            "Epoch 58/1000\n",
            "40/40 [==============================] - ETA: 0s - loss: 1.0052 - accuracy: 0.6256\n",
            "Epoch 58: saving model to model/keypoint_classifier\\keypoint_classifier.hdf5\n",
            "40/40 [==============================] - 0s 5ms/step - loss: 1.0052 - accuracy: 0.6256 - val_loss: 0.5991 - val_accuracy: 0.8826\n",
            "Epoch 59/1000\n",
            "40/40 [==============================] - ETA: 0s - loss: 0.9896 - accuracy: 0.6355\n",
            "Epoch 59: saving model to model/keypoint_classifier\\keypoint_classifier.hdf5\n",
            "40/40 [==============================] - 0s 5ms/step - loss: 0.9896 - accuracy: 0.6355 - val_loss: 0.5866 - val_accuracy: 0.8861\n",
            "Epoch 60/1000\n",
            "39/40 [============================>.] - ETA: 0s - loss: 0.9841 - accuracy: 0.6352\n",
            "Epoch 60: saving model to model/keypoint_classifier\\keypoint_classifier.hdf5\n",
            "40/40 [==============================] - 0s 5ms/step - loss: 0.9846 - accuracy: 0.6353 - val_loss: 0.5822 - val_accuracy: 0.8784\n",
            "Epoch 61/1000\n",
            "40/40 [==============================] - ETA: 0s - loss: 0.9947 - accuracy: 0.6264\n",
            "Epoch 61: saving model to model/keypoint_classifier\\keypoint_classifier.hdf5\n",
            "40/40 [==============================] - 0s 5ms/step - loss: 0.9947 - accuracy: 0.6264 - val_loss: 0.5836 - val_accuracy: 0.8855\n",
            "Epoch 62/1000\n",
            "23/40 [================>.............] - ETA: 0s - loss: 1.0025 - accuracy: 0.6182\n",
            "Epoch 62: saving model to model/keypoint_classifier\\keypoint_classifier.hdf5\n",
            "40/40 [==============================] - 0s 4ms/step - loss: 0.9970 - accuracy: 0.6266 - val_loss: 0.5827 - val_accuracy: 0.8855\n",
            "Epoch 63/1000\n",
            "21/40 [==============>...............] - ETA: 0s - loss: 0.9965 - accuracy: 0.6298\n",
            "Epoch 63: saving model to model/keypoint_classifier\\keypoint_classifier.hdf5\n",
            "40/40 [==============================] - 0s 4ms/step - loss: 0.9911 - accuracy: 0.6286 - val_loss: 0.5863 - val_accuracy: 0.8843\n",
            "Epoch 64/1000\n",
            "25/40 [=================>............] - ETA: 0s - loss: 0.9698 - accuracy: 0.6353\n",
            "Epoch 64: saving model to model/keypoint_classifier\\keypoint_classifier.hdf5\n",
            "40/40 [==============================] - 0s 4ms/step - loss: 0.9812 - accuracy: 0.6335 - val_loss: 0.5751 - val_accuracy: 0.8837\n",
            "Epoch 65/1000\n",
            "39/40 [============================>.] - ETA: 0s - loss: 0.9763 - accuracy: 0.6354\n",
            "Epoch 65: saving model to model/keypoint_classifier\\keypoint_classifier.hdf5\n",
            "40/40 [==============================] - 0s 5ms/step - loss: 0.9770 - accuracy: 0.6345 - val_loss: 0.5866 - val_accuracy: 0.8843\n",
            "Epoch 66/1000\n",
            "22/40 [===============>..............] - ETA: 0s - loss: 0.9719 - accuracy: 0.6364\n",
            "Epoch 66: saving model to model/keypoint_classifier\\keypoint_classifier.hdf5\n",
            "40/40 [==============================] - 0s 4ms/step - loss: 0.9719 - accuracy: 0.6345 - val_loss: 0.5597 - val_accuracy: 0.8891\n",
            "Epoch 67/1000\n",
            "21/40 [==============>...............] - ETA: 0s - loss: 0.9756 - accuracy: 0.6336\n",
            "Epoch 67: saving model to model/keypoint_classifier\\keypoint_classifier.hdf5\n",
            "40/40 [==============================] - 0s 4ms/step - loss: 0.9669 - accuracy: 0.6386 - val_loss: 0.5599 - val_accuracy: 0.8808\n",
            "Epoch 68/1000\n",
            "25/40 [=================>............] - ETA: 0s - loss: 0.9572 - accuracy: 0.6475\n",
            "Epoch 68: saving model to model/keypoint_classifier\\keypoint_classifier.hdf5\n",
            "40/40 [==============================] - 0s 4ms/step - loss: 0.9482 - accuracy: 0.6511 - val_loss: 0.5501 - val_accuracy: 0.8867\n",
            "Epoch 69/1000\n",
            "25/40 [=================>............] - ETA: 0s - loss: 0.9713 - accuracy: 0.6328\n",
            "Epoch 69: saving model to model/keypoint_classifier\\keypoint_classifier.hdf5\n",
            "40/40 [==============================] - 0s 4ms/step - loss: 0.9672 - accuracy: 0.6412 - val_loss: 0.5593 - val_accuracy: 0.8897\n",
            "Epoch 70/1000\n",
            "40/40 [==============================] - ETA: 0s - loss: 0.9797 - accuracy: 0.6331\n",
            "Epoch 70: saving model to model/keypoint_classifier\\keypoint_classifier.hdf5\n",
            "40/40 [==============================] - 0s 5ms/step - loss: 0.9797 - accuracy: 0.6331 - val_loss: 0.5741 - val_accuracy: 0.8849\n",
            "Epoch 71/1000\n",
            "37/40 [==========================>...] - ETA: 0s - loss: 0.9770 - accuracy: 0.6375\n",
            "Epoch 71: saving model to model/keypoint_classifier\\keypoint_classifier.hdf5\n",
            "40/40 [==============================] - 0s 5ms/step - loss: 0.9774 - accuracy: 0.6351 - val_loss: 0.5588 - val_accuracy: 0.8861\n",
            "Epoch 72/1000\n",
            "38/40 [===========================>..] - ETA: 0s - loss: 0.9602 - accuracy: 0.6340\n",
            "Epoch 72: saving model to model/keypoint_classifier\\keypoint_classifier.hdf5\n",
            "40/40 [==============================] - 0s 5ms/step - loss: 0.9622 - accuracy: 0.6319 - val_loss: 0.5628 - val_accuracy: 0.8808\n",
            "Epoch 73/1000\n",
            "25/40 [=================>............] - ETA: 0s - loss: 0.9684 - accuracy: 0.6331\n",
            "Epoch 73: saving model to model/keypoint_classifier\\keypoint_classifier.hdf5\n",
            "40/40 [==============================] - 0s 4ms/step - loss: 0.9637 - accuracy: 0.6377 - val_loss: 0.5578 - val_accuracy: 0.8832\n",
            "Epoch 74/1000\n",
            "29/40 [====================>.........] - ETA: 0s - loss: 0.9682 - accuracy: 0.6436\n",
            "Epoch 74: saving model to model/keypoint_classifier\\keypoint_classifier.hdf5\n",
            "40/40 [==============================] - 0s 4ms/step - loss: 0.9645 - accuracy: 0.6430 - val_loss: 0.5533 - val_accuracy: 0.8861\n",
            "Epoch 75/1000\n",
            "21/40 [==============>...............] - ETA: 0s - loss: 0.9561 - accuracy: 0.6425\n",
            "Epoch 75: saving model to model/keypoint_classifier\\keypoint_classifier.hdf5\n",
            "40/40 [==============================] - 0s 5ms/step - loss: 0.9557 - accuracy: 0.6432 - val_loss: 0.5468 - val_accuracy: 0.8909\n",
            "Epoch 76/1000\n",
            "35/40 [=========================>....] - ETA: 0s - loss: 0.9655 - accuracy: 0.6469\n",
            "Epoch 76: saving model to model/keypoint_classifier\\keypoint_classifier.hdf5\n",
            "40/40 [==============================] - 0s 5ms/step - loss: 0.9650 - accuracy: 0.6448 - val_loss: 0.5474 - val_accuracy: 0.8891\n",
            "Epoch 77/1000\n",
            "34/40 [========================>.....] - ETA: 0s - loss: 0.9564 - accuracy: 0.6464\n",
            "Epoch 77: saving model to model/keypoint_classifier\\keypoint_classifier.hdf5\n",
            "40/40 [==============================] - 0s 4ms/step - loss: 0.9579 - accuracy: 0.6434 - val_loss: 0.5495 - val_accuracy: 0.8814\n",
            "Epoch 78/1000\n",
            "25/40 [=================>............] - ETA: 0s - loss: 0.9525 - accuracy: 0.6428\n",
            "Epoch 78: saving model to model/keypoint_classifier\\keypoint_classifier.hdf5\n",
            "40/40 [==============================] - 0s 4ms/step - loss: 0.9427 - accuracy: 0.6493 - val_loss: 0.5396 - val_accuracy: 0.8879\n",
            "Epoch 79/1000\n",
            "24/40 [=================>............] - ETA: 0s - loss: 0.9419 - accuracy: 0.6491\n",
            "Epoch 79: saving model to model/keypoint_classifier\\keypoint_classifier.hdf5\n",
            "40/40 [==============================] - 0s 4ms/step - loss: 0.9493 - accuracy: 0.6418 - val_loss: 0.5505 - val_accuracy: 0.8861\n",
            "Epoch 80/1000\n",
            "24/40 [=================>............] - ETA: 0s - loss: 0.9093 - accuracy: 0.6621\n",
            "Epoch 80: saving model to model/keypoint_classifier\\keypoint_classifier.hdf5\n",
            "40/40 [==============================] - 0s 4ms/step - loss: 0.9144 - accuracy: 0.6618 - val_loss: 0.5382 - val_accuracy: 0.8891\n",
            "Epoch 81/1000\n",
            "21/40 [==============>...............] - ETA: 0s - loss: 0.9460 - accuracy: 0.6488\n",
            "Epoch 81: saving model to model/keypoint_classifier\\keypoint_classifier.hdf5\n",
            "40/40 [==============================] - 0s 5ms/step - loss: 0.9540 - accuracy: 0.6450 - val_loss: 0.5447 - val_accuracy: 0.8909\n",
            "Epoch 82/1000\n",
            "39/40 [============================>.] - ETA: 0s - loss: 0.9526 - accuracy: 0.6412\n",
            "Epoch 82: saving model to model/keypoint_classifier\\keypoint_classifier.hdf5\n",
            "40/40 [==============================] - 0s 5ms/step - loss: 0.9536 - accuracy: 0.6400 - val_loss: 0.5439 - val_accuracy: 0.8915\n",
            "Epoch 83/1000\n",
            "23/40 [================>.............] - ETA: 0s - loss: 0.9035 - accuracy: 0.6685\n",
            "Epoch 83: saving model to model/keypoint_classifier\\keypoint_classifier.hdf5\n",
            "40/40 [==============================] - 0s 4ms/step - loss: 0.9212 - accuracy: 0.6600 - val_loss: 0.5363 - val_accuracy: 0.8897\n",
            "Epoch 84/1000\n",
            "24/40 [=================>............] - ETA: 0s - loss: 0.9155 - accuracy: 0.6514\n",
            "Epoch 84: saving model to model/keypoint_classifier\\keypoint_classifier.hdf5\n",
            "40/40 [==============================] - 0s 4ms/step - loss: 0.9348 - accuracy: 0.6495 - val_loss: 0.5369 - val_accuracy: 0.8897\n",
            "Epoch 85/1000\n",
            "28/40 [====================>.........] - ETA: 0s - loss: 0.9317 - accuracy: 0.6437\n",
            "Epoch 85: saving model to model/keypoint_classifier\\keypoint_classifier.hdf5\n",
            "40/40 [==============================] - 0s 5ms/step - loss: 0.9240 - accuracy: 0.6468 - val_loss: 0.5338 - val_accuracy: 0.8926\n",
            "Epoch 86/1000\n",
            "28/40 [====================>.........] - ETA: 0s - loss: 0.9370 - accuracy: 0.6532\n",
            "Epoch 86: saving model to model/keypoint_classifier\\keypoint_classifier.hdf5\n",
            "40/40 [==============================] - 0s 4ms/step - loss: 0.9350 - accuracy: 0.6535 - val_loss: 0.5285 - val_accuracy: 0.8956\n",
            "Epoch 87/1000\n",
            "39/40 [============================>.] - ETA: 0s - loss: 0.9273 - accuracy: 0.6542\n",
            "Epoch 87: saving model to model/keypoint_classifier\\keypoint_classifier.hdf5\n",
            "40/40 [==============================] - 0s 5ms/step - loss: 0.9272 - accuracy: 0.6551 - val_loss: 0.5333 - val_accuracy: 0.8921\n",
            "Epoch 88/1000\n",
            "40/40 [==============================] - ETA: 0s - loss: 0.9384 - accuracy: 0.6466\n",
            "Epoch 88: saving model to model/keypoint_classifier\\keypoint_classifier.hdf5\n",
            "40/40 [==============================] - 0s 5ms/step - loss: 0.9384 - accuracy: 0.6466 - val_loss: 0.5321 - val_accuracy: 0.8903\n",
            "Epoch 89/1000\n",
            "25/40 [=================>............] - ETA: 0s - loss: 0.9206 - accuracy: 0.6562\n",
            "Epoch 89: saving model to model/keypoint_classifier\\keypoint_classifier.hdf5\n",
            "40/40 [==============================] - 0s 4ms/step - loss: 0.9283 - accuracy: 0.6515 - val_loss: 0.5197 - val_accuracy: 0.8921\n",
            "Epoch 90/1000\n",
            "22/40 [===============>..............] - ETA: 0s - loss: 0.9469 - accuracy: 0.6399\n",
            "Epoch 90: saving model to model/keypoint_classifier\\keypoint_classifier.hdf5\n",
            "40/40 [==============================] - 0s 4ms/step - loss: 0.9363 - accuracy: 0.6495 - val_loss: 0.5367 - val_accuracy: 0.8897\n",
            "Epoch 91/1000\n",
            "39/40 [============================>.] - ETA: 0s - loss: 0.9439 - accuracy: 0.6410\n",
            "Epoch 91: saving model to model/keypoint_classifier\\keypoint_classifier.hdf5\n",
            "40/40 [==============================] - 0s 5ms/step - loss: 0.9438 - accuracy: 0.6408 - val_loss: 0.5384 - val_accuracy: 0.8915\n",
            "Epoch 92/1000\n",
            "20/40 [==============>...............] - ETA: 0s - loss: 0.9202 - accuracy: 0.6555\n",
            "Epoch 92: saving model to model/keypoint_classifier\\keypoint_classifier.hdf5\n",
            "40/40 [==============================] - 0s 5ms/step - loss: 0.9348 - accuracy: 0.6466 - val_loss: 0.5328 - val_accuracy: 0.8915\n",
            "Epoch 93/1000\n",
            "23/40 [================>.............] - ETA: 0s - loss: 0.8946 - accuracy: 0.6641\n",
            "Epoch 93: saving model to model/keypoint_classifier\\keypoint_classifier.hdf5\n",
            "40/40 [==============================] - 0s 4ms/step - loss: 0.9088 - accuracy: 0.6588 - val_loss: 0.5213 - val_accuracy: 0.8974\n",
            "Epoch 94/1000\n",
            "28/40 [====================>.........] - ETA: 0s - loss: 0.9243 - accuracy: 0.6585\n",
            "Epoch 94: saving model to model/keypoint_classifier\\keypoint_classifier.hdf5\n",
            "40/40 [==============================] - 0s 4ms/step - loss: 0.9221 - accuracy: 0.6525 - val_loss: 0.5219 - val_accuracy: 0.8944\n",
            "Epoch 95/1000\n",
            "23/40 [================>.............] - ETA: 0s - loss: 0.9081 - accuracy: 0.6630\n",
            "Epoch 95: saving model to model/keypoint_classifier\\keypoint_classifier.hdf5\n",
            "40/40 [==============================] - 0s 4ms/step - loss: 0.9279 - accuracy: 0.6531 - val_loss: 0.5299 - val_accuracy: 0.8956\n",
            "Epoch 96/1000\n",
            "25/40 [=================>............] - ETA: 0s - loss: 0.9152 - accuracy: 0.6534\n",
            "Epoch 96: saving model to model/keypoint_classifier\\keypoint_classifier.hdf5\n",
            "40/40 [==============================] - 0s 4ms/step - loss: 0.9190 - accuracy: 0.6582 - val_loss: 0.5234 - val_accuracy: 0.8956\n",
            "Epoch 97/1000\n",
            "22/40 [===============>..............] - ETA: 0s - loss: 0.9100 - accuracy: 0.6520\n",
            "Epoch 97: saving model to model/keypoint_classifier\\keypoint_classifier.hdf5\n",
            "40/40 [==============================] - 0s 4ms/step - loss: 0.9138 - accuracy: 0.6568 - val_loss: 0.5179 - val_accuracy: 0.8921\n",
            "Epoch 98/1000\n",
            "23/40 [================>.............] - ETA: 0s - loss: 0.8868 - accuracy: 0.6814\n",
            "Epoch 98: saving model to model/keypoint_classifier\\keypoint_classifier.hdf5\n",
            "40/40 [==============================] - 0s 4ms/step - loss: 0.9074 - accuracy: 0.6681 - val_loss: 0.5245 - val_accuracy: 0.8932\n",
            "Epoch 99/1000\n",
            "40/40 [==============================] - ETA: 0s - loss: 0.9254 - accuracy: 0.6683\n",
            "Epoch 99: saving model to model/keypoint_classifier\\keypoint_classifier.hdf5\n",
            "40/40 [==============================] - 0s 5ms/step - loss: 0.9254 - accuracy: 0.6683 - val_loss: 0.5136 - val_accuracy: 0.8986\n",
            "Epoch 100/1000\n",
            "40/40 [==============================] - ETA: 0s - loss: 0.8990 - accuracy: 0.6652\n",
            "Epoch 100: saving model to model/keypoint_classifier\\keypoint_classifier.hdf5\n",
            "40/40 [==============================] - 0s 5ms/step - loss: 0.8990 - accuracy: 0.6652 - val_loss: 0.5214 - val_accuracy: 0.8944\n",
            "Epoch 101/1000\n",
            "26/40 [==================>...........] - ETA: 0s - loss: 0.8966 - accuracy: 0.6722\n",
            "Epoch 101: saving model to model/keypoint_classifier\\keypoint_classifier.hdf5\n",
            "40/40 [==============================] - 0s 4ms/step - loss: 0.8971 - accuracy: 0.6707 - val_loss: 0.5071 - val_accuracy: 0.9021\n",
            "Epoch 102/1000\n",
            "22/40 [===============>..............] - ETA: 0s - loss: 0.9274 - accuracy: 0.6712\n",
            "Epoch 102: saving model to model/keypoint_classifier\\keypoint_classifier.hdf5\n",
            "40/40 [==============================] - 0s 4ms/step - loss: 0.9138 - accuracy: 0.6681 - val_loss: 0.5220 - val_accuracy: 0.8903\n",
            "Epoch 103/1000\n",
            "37/40 [==========================>...] - ETA: 0s - loss: 0.9244 - accuracy: 0.6548\n",
            "Epoch 103: saving model to model/keypoint_classifier\\keypoint_classifier.hdf5\n",
            "40/40 [==============================] - 0s 5ms/step - loss: 0.9254 - accuracy: 0.6543 - val_loss: 0.5151 - val_accuracy: 0.8980\n",
            "Epoch 104/1000\n",
            "22/40 [===============>..............] - ETA: 0s - loss: 0.9329 - accuracy: 0.6609\n",
            "Epoch 104: saving model to model/keypoint_classifier\\keypoint_classifier.hdf5\n",
            "40/40 [==============================] - 0s 4ms/step - loss: 0.9193 - accuracy: 0.6566 - val_loss: 0.5056 - val_accuracy: 0.9021\n",
            "Epoch 105/1000\n",
            "38/40 [===========================>..] - ETA: 0s - loss: 0.8937 - accuracy: 0.6620\n",
            "Epoch 105: saving model to model/keypoint_classifier\\keypoint_classifier.hdf5\n",
            "40/40 [==============================] - 0s 5ms/step - loss: 0.8971 - accuracy: 0.6618 - val_loss: 0.4974 - val_accuracy: 0.9039\n",
            "Epoch 106/1000\n",
            "26/40 [==================>...........] - ETA: 0s - loss: 0.9476 - accuracy: 0.6496\n",
            "Epoch 106: saving model to model/keypoint_classifier\\keypoint_classifier.hdf5\n",
            "40/40 [==============================] - 0s 4ms/step - loss: 0.9245 - accuracy: 0.6616 - val_loss: 0.5103 - val_accuracy: 0.8962\n",
            "Epoch 107/1000\n",
            "25/40 [=================>............] - ETA: 0s - loss: 0.8924 - accuracy: 0.6681\n",
            "Epoch 107: saving model to model/keypoint_classifier\\keypoint_classifier.hdf5\n",
            "40/40 [==============================] - 0s 4ms/step - loss: 0.9099 - accuracy: 0.6630 - val_loss: 0.5085 - val_accuracy: 0.8915\n",
            "Epoch 108/1000\n",
            "22/40 [===============>..............] - ETA: 0s - loss: 0.8850 - accuracy: 0.6747\n",
            "Epoch 108: saving model to model/keypoint_classifier\\keypoint_classifier.hdf5\n",
            "40/40 [==============================] - 0s 5ms/step - loss: 0.8985 - accuracy: 0.6709 - val_loss: 0.5012 - val_accuracy: 0.9009\n",
            "Epoch 109/1000\n",
            "39/40 [============================>.] - ETA: 0s - loss: 0.8874 - accuracy: 0.6651\n",
            "Epoch 109: saving model to model/keypoint_classifier\\keypoint_classifier.hdf5\n",
            "40/40 [==============================] - 0s 5ms/step - loss: 0.8900 - accuracy: 0.6638 - val_loss: 0.5126 - val_accuracy: 0.8944\n",
            "Epoch 110/1000\n",
            "40/40 [==============================] - ETA: 0s - loss: 0.9023 - accuracy: 0.6640\n",
            "Epoch 110: saving model to model/keypoint_classifier\\keypoint_classifier.hdf5\n",
            "40/40 [==============================] - 0s 5ms/step - loss: 0.9023 - accuracy: 0.6640 - val_loss: 0.4922 - val_accuracy: 0.9057\n",
            "Epoch 111/1000\n",
            "22/40 [===============>..............] - ETA: 0s - loss: 0.9026 - accuracy: 0.6573\n",
            "Epoch 111: saving model to model/keypoint_classifier\\keypoint_classifier.hdf5\n",
            "40/40 [==============================] - 0s 5ms/step - loss: 0.8753 - accuracy: 0.6719 - val_loss: 0.4842 - val_accuracy: 0.9039\n",
            "Epoch 112/1000\n",
            "21/40 [==============>...............] - ETA: 0s - loss: 0.9272 - accuracy: 0.6629\n",
            "Epoch 112: saving model to model/keypoint_classifier\\keypoint_classifier.hdf5\n",
            "40/40 [==============================] - 0s 5ms/step - loss: 0.9084 - accuracy: 0.6665 - val_loss: 0.5067 - val_accuracy: 0.8956\n",
            "Epoch 113/1000\n",
            "30/40 [=====================>........] - ETA: 0s - loss: 0.9179 - accuracy: 0.6521\n",
            "Epoch 113: saving model to model/keypoint_classifier\\keypoint_classifier.hdf5\n",
            "40/40 [==============================] - 0s 4ms/step - loss: 0.9164 - accuracy: 0.6539 - val_loss: 0.4995 - val_accuracy: 0.9039\n",
            "Epoch 114/1000\n",
            "20/40 [==============>...............] - ETA: 0s - loss: 0.9084 - accuracy: 0.6727\n",
            "Epoch 114: saving model to model/keypoint_classifier\\keypoint_classifier.hdf5\n",
            "40/40 [==============================] - 0s 5ms/step - loss: 0.9159 - accuracy: 0.6675 - val_loss: 0.5087 - val_accuracy: 0.8974\n",
            "Epoch 115/1000\n",
            "40/40 [==============================] - ETA: 0s - loss: 0.8928 - accuracy: 0.6636\n",
            "Epoch 115: saving model to model/keypoint_classifier\\keypoint_classifier.hdf5\n",
            "40/40 [==============================] - 0s 5ms/step - loss: 0.8928 - accuracy: 0.6636 - val_loss: 0.5041 - val_accuracy: 0.8992\n",
            "Epoch 116/1000\n",
            "22/40 [===============>..............] - ETA: 0s - loss: 0.8802 - accuracy: 0.6768\n",
            "Epoch 116: saving model to model/keypoint_classifier\\keypoint_classifier.hdf5\n",
            "40/40 [==============================] - 0s 4ms/step - loss: 0.8999 - accuracy: 0.6703 - val_loss: 0.5100 - val_accuracy: 0.8956\n",
            "Epoch 117/1000\n",
            "23/40 [================>.............] - ETA: 0s - loss: 0.9087 - accuracy: 0.6559\n",
            "Epoch 117: saving model to model/keypoint_classifier\\keypoint_classifier.hdf5\n",
            "40/40 [==============================] - 0s 4ms/step - loss: 0.8896 - accuracy: 0.6685 - val_loss: 0.4891 - val_accuracy: 0.9004\n",
            "Epoch 118/1000\n",
            "22/40 [===============>..............] - ETA: 0s - loss: 0.8842 - accuracy: 0.6701\n",
            "Epoch 118: saving model to model/keypoint_classifier\\keypoint_classifier.hdf5\n",
            "40/40 [==============================] - 0s 5ms/step - loss: 0.8892 - accuracy: 0.6695 - val_loss: 0.5046 - val_accuracy: 0.9015\n",
            "Epoch 119/1000\n",
            "39/40 [============================>.] - ETA: 0s - loss: 0.8788 - accuracy: 0.6693\n",
            "Epoch 119: saving model to model/keypoint_classifier\\keypoint_classifier.hdf5\n",
            "40/40 [==============================] - 0s 5ms/step - loss: 0.8793 - accuracy: 0.6685 - val_loss: 0.4852 - val_accuracy: 0.9015\n",
            "Epoch 120/1000\n",
            "40/40 [==============================] - ETA: 0s - loss: 0.8938 - accuracy: 0.6703\n",
            "Epoch 120: saving model to model/keypoint_classifier\\keypoint_classifier.hdf5\n",
            "40/40 [==============================] - 0s 5ms/step - loss: 0.8938 - accuracy: 0.6703 - val_loss: 0.4940 - val_accuracy: 0.8974\n",
            "Epoch 121/1000\n",
            "37/40 [==========================>...] - ETA: 0s - loss: 0.9045 - accuracy: 0.6687\n",
            "Epoch 121: saving model to model/keypoint_classifier\\keypoint_classifier.hdf5\n",
            "40/40 [==============================] - 0s 5ms/step - loss: 0.9062 - accuracy: 0.6681 - val_loss: 0.5000 - val_accuracy: 0.9051\n",
            "Epoch 122/1000\n",
            "27/40 [===================>..........] - ETA: 0s - loss: 0.8679 - accuracy: 0.6725\n",
            "Epoch 122: saving model to model/keypoint_classifier\\keypoint_classifier.hdf5\n",
            "40/40 [==============================] - 0s 4ms/step - loss: 0.8889 - accuracy: 0.6671 - val_loss: 0.4941 - val_accuracy: 0.9015\n",
            "Epoch 123/1000\n",
            "21/40 [==============>...............] - ETA: 0s - loss: 0.8778 - accuracy: 0.6745\n",
            "Epoch 123: saving model to model/keypoint_classifier\\keypoint_classifier.hdf5\n",
            "40/40 [==============================] - 0s 5ms/step - loss: 0.8885 - accuracy: 0.6707 - val_loss: 0.4921 - val_accuracy: 0.9021\n",
            "Epoch 124/1000\n",
            "40/40 [==============================] - ETA: 0s - loss: 0.9083 - accuracy: 0.6590\n",
            "Epoch 124: saving model to model/keypoint_classifier\\keypoint_classifier.hdf5\n",
            "40/40 [==============================] - 0s 5ms/step - loss: 0.9083 - accuracy: 0.6590 - val_loss: 0.4987 - val_accuracy: 0.9039\n",
            "Epoch 125/1000\n",
            "20/40 [==============>...............] - ETA: 0s - loss: 0.8975 - accuracy: 0.6602\n",
            "Epoch 125: saving model to model/keypoint_classifier\\keypoint_classifier.hdf5\n",
            "40/40 [==============================] - 0s 5ms/step - loss: 0.8938 - accuracy: 0.6640 - val_loss: 0.4917 - val_accuracy: 0.8992\n",
            "Epoch 126/1000\n",
            "40/40 [==============================] - ETA: 0s - loss: 0.8964 - accuracy: 0.6707\n",
            "Epoch 126: saving model to model/keypoint_classifier\\keypoint_classifier.hdf5\n",
            "40/40 [==============================] - 0s 5ms/step - loss: 0.8964 - accuracy: 0.6707 - val_loss: 0.5002 - val_accuracy: 0.9051\n",
            "Epoch 127/1000\n",
            "21/40 [==============>...............] - ETA: 0s - loss: 0.8986 - accuracy: 0.6782\n",
            "Epoch 127: saving model to model/keypoint_classifier\\keypoint_classifier.hdf5\n",
            "40/40 [==============================] - 0s 5ms/step - loss: 0.8994 - accuracy: 0.6703 - val_loss: 0.5091 - val_accuracy: 0.9039\n",
            "Epoch 128/1000\n",
            "39/40 [============================>.] - ETA: 0s - loss: 0.8691 - accuracy: 0.6767\n",
            "Epoch 128: saving model to model/keypoint_classifier\\keypoint_classifier.hdf5\n",
            "40/40 [==============================] - 0s 6ms/step - loss: 0.8676 - accuracy: 0.6772 - val_loss: 0.4867 - val_accuracy: 0.9027\n",
            "Epoch 129/1000\n",
            "26/40 [==================>...........] - ETA: 0s - loss: 0.8678 - accuracy: 0.6800\n",
            "Epoch 129: saving model to model/keypoint_classifier\\keypoint_classifier.hdf5\n",
            "40/40 [==============================] - 0s 4ms/step - loss: 0.8610 - accuracy: 0.6859 - val_loss: 0.4797 - val_accuracy: 0.9004\n",
            "Epoch 130/1000\n",
            "24/40 [=================>............] - ETA: 0s - loss: 0.9109 - accuracy: 0.6654\n",
            "Epoch 130: saving model to model/keypoint_classifier\\keypoint_classifier.hdf5\n",
            "40/40 [==============================] - 0s 4ms/step - loss: 0.8928 - accuracy: 0.6776 - val_loss: 0.4886 - val_accuracy: 0.9081\n",
            "Epoch 131/1000\n",
            "24/40 [=================>............] - ETA: 0s - loss: 0.8995 - accuracy: 0.6641\n",
            "Epoch 131: saving model to model/keypoint_classifier\\keypoint_classifier.hdf5\n",
            "40/40 [==============================] - 0s 4ms/step - loss: 0.8952 - accuracy: 0.6669 - val_loss: 0.5008 - val_accuracy: 0.9009\n",
            "Epoch 132/1000\n",
            "23/40 [================>.............] - ETA: 0s - loss: 0.8503 - accuracy: 0.6899\n",
            "Epoch 132: saving model to model/keypoint_classifier\\keypoint_classifier.hdf5\n",
            "40/40 [==============================] - 0s 4ms/step - loss: 0.8649 - accuracy: 0.6863 - val_loss: 0.4761 - val_accuracy: 0.9057\n",
            "Epoch 133/1000\n",
            "24/40 [=================>............] - ETA: 0s - loss: 0.8772 - accuracy: 0.6748\n",
            "Epoch 133: saving model to model/keypoint_classifier\\keypoint_classifier.hdf5\n",
            "40/40 [==============================] - 0s 4ms/step - loss: 0.8738 - accuracy: 0.6794 - val_loss: 0.4997 - val_accuracy: 0.8968\n",
            "Epoch 134/1000\n",
            "23/40 [================>.............] - ETA: 0s - loss: 0.8685 - accuracy: 0.6773\n",
            "Epoch 134: saving model to model/keypoint_classifier\\keypoint_classifier.hdf5\n",
            "40/40 [==============================] - 0s 4ms/step - loss: 0.8768 - accuracy: 0.6727 - val_loss: 0.4770 - val_accuracy: 0.9045\n",
            "Epoch 135/1000\n",
            "40/40 [==============================] - ETA: 0s - loss: 0.8800 - accuracy: 0.6701\n",
            "Epoch 135: saving model to model/keypoint_classifier\\keypoint_classifier.hdf5\n",
            "40/40 [==============================] - 0s 5ms/step - loss: 0.8800 - accuracy: 0.6701 - val_loss: 0.4865 - val_accuracy: 0.9004\n",
            "Epoch 136/1000\n",
            "39/40 [============================>.] - ETA: 0s - loss: 0.8739 - accuracy: 0.6799\n",
            "Epoch 136: saving model to model/keypoint_classifier\\keypoint_classifier.hdf5\n",
            "40/40 [==============================] - 0s 5ms/step - loss: 0.8703 - accuracy: 0.6814 - val_loss: 0.4856 - val_accuracy: 0.8962\n",
            "Epoch 137/1000\n",
            "24/40 [=================>............] - ETA: 0s - loss: 0.8814 - accuracy: 0.6764\n",
            "Epoch 137: saving model to model/keypoint_classifier\\keypoint_classifier.hdf5\n",
            "40/40 [==============================] - 0s 4ms/step - loss: 0.8793 - accuracy: 0.6742 - val_loss: 0.4767 - val_accuracy: 0.9051\n",
            "Epoch 138/1000\n",
            "22/40 [===============>..............] - ETA: 0s - loss: 0.8341 - accuracy: 0.6928\n",
            "Epoch 138: saving model to model/keypoint_classifier\\keypoint_classifier.hdf5\n",
            "40/40 [==============================] - 0s 4ms/step - loss: 0.8590 - accuracy: 0.6810 - val_loss: 0.4695 - val_accuracy: 0.8986\n",
            "Epoch 139/1000\n",
            "22/40 [===============>..............] - ETA: 0s - loss: 0.8854 - accuracy: 0.6683\n",
            "Epoch 139: saving model to model/keypoint_classifier\\keypoint_classifier.hdf5\n",
            "40/40 [==============================] - 0s 5ms/step - loss: 0.8913 - accuracy: 0.6612 - val_loss: 0.4869 - val_accuracy: 0.9009\n",
            "Epoch 140/1000\n",
            "23/40 [================>.............] - ETA: 0s - loss: 0.8521 - accuracy: 0.6844\n",
            "Epoch 140: saving model to model/keypoint_classifier\\keypoint_classifier.hdf5\n",
            "40/40 [==============================] - 0s 4ms/step - loss: 0.8706 - accuracy: 0.6744 - val_loss: 0.4786 - val_accuracy: 0.9063\n",
            "Epoch 141/1000\n",
            "40/40 [==============================] - ETA: 0s - loss: 0.8766 - accuracy: 0.6699\n",
            "Epoch 141: saving model to model/keypoint_classifier\\keypoint_classifier.hdf5\n",
            "40/40 [==============================] - 0s 5ms/step - loss: 0.8766 - accuracy: 0.6699 - val_loss: 0.4961 - val_accuracy: 0.8992\n",
            "Epoch 142/1000\n",
            "19/40 [=============>................] - ETA: 0s - loss: 0.8576 - accuracy: 0.6854\n",
            "Epoch 142: saving model to model/keypoint_classifier\\keypoint_classifier.hdf5\n",
            "40/40 [==============================] - 0s 4ms/step - loss: 0.8523 - accuracy: 0.6887 - val_loss: 0.4787 - val_accuracy: 0.8974\n",
            "Epoch 143/1000\n",
            "24/40 [=================>............] - ETA: 0s - loss: 0.8645 - accuracy: 0.6930\n",
            "Epoch 143: saving model to model/keypoint_classifier\\keypoint_classifier.hdf5\n",
            "40/40 [==============================] - 0s 4ms/step - loss: 0.8821 - accuracy: 0.6802 - val_loss: 0.4907 - val_accuracy: 0.8944\n",
            "Epoch 144/1000\n",
            "24/40 [=================>............] - ETA: 0s - loss: 0.8812 - accuracy: 0.6878\n",
            "Epoch 144: saving model to model/keypoint_classifier\\keypoint_classifier.hdf5\n",
            "40/40 [==============================] - 0s 4ms/step - loss: 0.8787 - accuracy: 0.6792 - val_loss: 0.4818 - val_accuracy: 0.9045\n",
            "Epoch 145/1000\n",
            "39/40 [============================>.] - ETA: 0s - loss: 0.8577 - accuracy: 0.6829\n",
            "Epoch 145: saving model to model/keypoint_classifier\\keypoint_classifier.hdf5\n",
            "40/40 [==============================] - 0s 5ms/step - loss: 0.8608 - accuracy: 0.6822 - val_loss: 0.4846 - val_accuracy: 0.9051\n",
            "Epoch 146/1000\n",
            "28/40 [====================>.........] - ETA: 0s - loss: 0.8733 - accuracy: 0.6763\n",
            "Epoch 146: saving model to model/keypoint_classifier\\keypoint_classifier.hdf5\n",
            "40/40 [==============================] - 0s 4ms/step - loss: 0.8700 - accuracy: 0.6831 - val_loss: 0.4783 - val_accuracy: 0.9027\n",
            "Epoch 147/1000\n",
            "40/40 [==============================] - ETA: 0s - loss: 0.8620 - accuracy: 0.6826\n",
            "Epoch 147: saving model to model/keypoint_classifier\\keypoint_classifier.hdf5\n",
            "40/40 [==============================] - 0s 5ms/step - loss: 0.8620 - accuracy: 0.6826 - val_loss: 0.4705 - val_accuracy: 0.9063\n",
            "Epoch 148/1000\n",
            "23/40 [================>.............] - ETA: 0s - loss: 0.8731 - accuracy: 0.6715\n",
            "Epoch 148: saving model to model/keypoint_classifier\\keypoint_classifier.hdf5\n",
            "40/40 [==============================] - 0s 4ms/step - loss: 0.8790 - accuracy: 0.6727 - val_loss: 0.4880 - val_accuracy: 0.9039\n",
            "Epoch 149/1000\n",
            "20/40 [==============>...............] - ETA: 0s - loss: 0.8873 - accuracy: 0.6820\n",
            "Epoch 149: saving model to model/keypoint_classifier\\keypoint_classifier.hdf5\n",
            "40/40 [==============================] - 0s 5ms/step - loss: 0.8789 - accuracy: 0.6792 - val_loss: 0.4687 - val_accuracy: 0.9110\n",
            "Epoch 150/1000\n",
            "40/40 [==============================] - ETA: 0s - loss: 0.8616 - accuracy: 0.6758\n",
            "Epoch 150: saving model to model/keypoint_classifier\\keypoint_classifier.hdf5\n",
            "40/40 [==============================] - 0s 5ms/step - loss: 0.8616 - accuracy: 0.6758 - val_loss: 0.4813 - val_accuracy: 0.9009\n",
            "Epoch 151/1000\n",
            "21/40 [==============>...............] - ETA: 0s - loss: 0.8322 - accuracy: 0.6886\n",
            "Epoch 151: saving model to model/keypoint_classifier\\keypoint_classifier.hdf5\n",
            "40/40 [==============================] - 0s 4ms/step - loss: 0.8762 - accuracy: 0.6830 - val_loss: 0.4816 - val_accuracy: 0.9087\n",
            "Epoch 152/1000\n",
            "39/40 [============================>.] - ETA: 0s - loss: 0.8660 - accuracy: 0.6779\n",
            "Epoch 152: saving model to model/keypoint_classifier\\keypoint_classifier.hdf5\n",
            "40/40 [==============================] - 0s 5ms/step - loss: 0.8652 - accuracy: 0.6780 - val_loss: 0.4787 - val_accuracy: 0.9104\n",
            "Epoch 153/1000\n",
            "39/40 [============================>.] - ETA: 0s - loss: 0.8718 - accuracy: 0.6791\n",
            "Epoch 153: saving model to model/keypoint_classifier\\keypoint_classifier.hdf5\n",
            "40/40 [==============================] - 0s 5ms/step - loss: 0.8707 - accuracy: 0.6798 - val_loss: 0.4763 - val_accuracy: 0.9098\n",
            "Epoch 154/1000\n",
            "23/40 [================>.............] - ETA: 0s - loss: 0.8326 - accuracy: 0.6929\n",
            "Epoch 154: saving model to model/keypoint_classifier\\keypoint_classifier.hdf5\n",
            "40/40 [==============================] - 0s 5ms/step - loss: 0.8572 - accuracy: 0.6861 - val_loss: 0.4896 - val_accuracy: 0.8980\n",
            "Epoch 155/1000\n",
            "24/40 [=================>............] - ETA: 0s - loss: 0.8638 - accuracy: 0.6895\n",
            "Epoch 155: saving model to model/keypoint_classifier\\keypoint_classifier.hdf5\n",
            "40/40 [==============================] - 0s 5ms/step - loss: 0.8541 - accuracy: 0.6893 - val_loss: 0.4706 - val_accuracy: 0.9027\n",
            "Epoch 156/1000\n",
            "40/40 [==============================] - ETA: 0s - loss: 0.8638 - accuracy: 0.6800\n",
            "Epoch 156: saving model to model/keypoint_classifier\\keypoint_classifier.hdf5\n",
            "40/40 [==============================] - 0s 5ms/step - loss: 0.8638 - accuracy: 0.6800 - val_loss: 0.4646 - val_accuracy: 0.9098\n",
            "Epoch 157/1000\n",
            "22/40 [===============>..............] - ETA: 0s - loss: 0.8721 - accuracy: 0.6793\n",
            "Epoch 157: saving model to model/keypoint_classifier\\keypoint_classifier.hdf5\n",
            "40/40 [==============================] - 0s 4ms/step - loss: 0.8409 - accuracy: 0.6885 - val_loss: 0.4644 - val_accuracy: 0.9069\n",
            "Epoch 158/1000\n",
            "21/40 [==============>...............] - ETA: 0s - loss: 0.8980 - accuracy: 0.6674\n",
            "Epoch 158: saving model to model/keypoint_classifier\\keypoint_classifier.hdf5\n",
            "40/40 [==============================] - 0s 5ms/step - loss: 0.8879 - accuracy: 0.6729 - val_loss: 0.4631 - val_accuracy: 0.9104\n",
            "Epoch 159/1000\n",
            "20/40 [==============>...............] - ETA: 0s - loss: 0.8886 - accuracy: 0.6773\n",
            "Epoch 159: saving model to model/keypoint_classifier\\keypoint_classifier.hdf5\n",
            "40/40 [==============================] - 0s 5ms/step - loss: 0.8678 - accuracy: 0.6812 - val_loss: 0.4793 - val_accuracy: 0.8968\n",
            "Epoch 160/1000\n",
            "40/40 [==============================] - ETA: 0s - loss: 0.8695 - accuracy: 0.6750\n",
            "Epoch 160: saving model to model/keypoint_classifier\\keypoint_classifier.hdf5\n",
            "40/40 [==============================] - 0s 5ms/step - loss: 0.8695 - accuracy: 0.6750 - val_loss: 0.4811 - val_accuracy: 0.8950\n",
            "Epoch 161/1000\n",
            "22/40 [===============>..............] - ETA: 0s - loss: 0.8676 - accuracy: 0.6800\n",
            "Epoch 161: saving model to model/keypoint_classifier\\keypoint_classifier.hdf5\n",
            "40/40 [==============================] - 0s 5ms/step - loss: 0.8653 - accuracy: 0.6802 - val_loss: 0.4726 - val_accuracy: 0.9081\n",
            "Epoch 162/1000\n",
            "29/40 [====================>.........] - ETA: 0s - loss: 0.8705 - accuracy: 0.6853\n",
            "Epoch 162: saving model to model/keypoint_classifier\\keypoint_classifier.hdf5\n",
            "40/40 [==============================] - 0s 4ms/step - loss: 0.8688 - accuracy: 0.6847 - val_loss: 0.4629 - val_accuracy: 0.9081\n",
            "Epoch 163/1000\n",
            "25/40 [=================>............] - ETA: 0s - loss: 0.8411 - accuracy: 0.6913\n",
            "Epoch 163: saving model to model/keypoint_classifier\\keypoint_classifier.hdf5\n",
            "40/40 [==============================] - 0s 4ms/step - loss: 0.8566 - accuracy: 0.6826 - val_loss: 0.4715 - val_accuracy: 0.8956\n",
            "Epoch 164/1000\n",
            "21/40 [==============>...............] - ETA: 0s - loss: 0.8674 - accuracy: 0.6908\n",
            "Epoch 164: saving model to model/keypoint_classifier\\keypoint_classifier.hdf5\n",
            "40/40 [==============================] - 0s 4ms/step - loss: 0.8837 - accuracy: 0.6839 - val_loss: 0.4631 - val_accuracy: 0.9057\n",
            "Epoch 165/1000\n",
            "23/40 [================>.............] - ETA: 0s - loss: 0.8465 - accuracy: 0.6732\n",
            "Epoch 165: saving model to model/keypoint_classifier\\keypoint_classifier.hdf5\n",
            "40/40 [==============================] - 0s 4ms/step - loss: 0.8515 - accuracy: 0.6756 - val_loss: 0.4715 - val_accuracy: 0.8986\n",
            "Epoch 166/1000\n",
            "38/40 [===========================>..] - ETA: 0s - loss: 0.8489 - accuracy: 0.6817\n",
            "Epoch 166: saving model to model/keypoint_classifier\\keypoint_classifier.hdf5\n",
            "40/40 [==============================] - 0s 5ms/step - loss: 0.8507 - accuracy: 0.6830 - val_loss: 0.4640 - val_accuracy: 0.9051\n",
            "Epoch 167/1000\n",
            "38/40 [===========================>..] - ETA: 0s - loss: 0.8492 - accuracy: 0.6877\n",
            "Epoch 167: saving model to model/keypoint_classifier\\keypoint_classifier.hdf5\n",
            "40/40 [==============================] - 0s 5ms/step - loss: 0.8433 - accuracy: 0.6897 - val_loss: 0.4630 - val_accuracy: 0.9110\n",
            "Epoch 168/1000\n",
            "22/40 [===============>..............] - ETA: 0s - loss: 0.8719 - accuracy: 0.6843\n",
            "Epoch 168: saving model to model/keypoint_classifier\\keypoint_classifier.hdf5\n",
            "40/40 [==============================] - 0s 5ms/step - loss: 0.8654 - accuracy: 0.6820 - val_loss: 0.4658 - val_accuracy: 0.9081\n",
            "Epoch 169/1000\n",
            "38/40 [===========================>..] - ETA: 0s - loss: 0.8492 - accuracy: 0.6900\n",
            "Epoch 169: saving model to model/keypoint_classifier\\keypoint_classifier.hdf5\n",
            "40/40 [==============================] - 0s 5ms/step - loss: 0.8489 - accuracy: 0.6907 - val_loss: 0.4618 - val_accuracy: 0.9110\n",
            "Epoch 170/1000\n",
            "26/40 [==================>...........] - ETA: 0s - loss: 0.8464 - accuracy: 0.6854\n",
            "Epoch 170: saving model to model/keypoint_classifier\\keypoint_classifier.hdf5\n",
            "40/40 [==============================] - 0s 6ms/step - loss: 0.8545 - accuracy: 0.6859 - val_loss: 0.4689 - val_accuracy: 0.9075\n",
            "Epoch 171/1000\n",
            "32/40 [=======================>......] - ETA: 0s - loss: 0.8695 - accuracy: 0.6697\n",
            "Epoch 171: saving model to model/keypoint_classifier\\keypoint_classifier.hdf5\n",
            "40/40 [==============================] - 0s 3ms/step - loss: 0.8805 - accuracy: 0.6687 - val_loss: 0.4675 - val_accuracy: 0.9104\n",
            "Epoch 172/1000\n",
            "38/40 [===========================>..] - ETA: 0s - loss: 0.8666 - accuracy: 0.6785\n",
            "Epoch 172: saving model to model/keypoint_classifier\\keypoint_classifier.hdf5\n",
            "40/40 [==============================] - 0s 3ms/step - loss: 0.8636 - accuracy: 0.6796 - val_loss: 0.4833 - val_accuracy: 0.9075\n",
            "Epoch 173/1000\n",
            "21/40 [==============>...............] - ETA: 0s - loss: 0.8688 - accuracy: 0.6801\n",
            "Epoch 173: saving model to model/keypoint_classifier\\keypoint_classifier.hdf5\n",
            "40/40 [==============================] - 0s 5ms/step - loss: 0.8713 - accuracy: 0.6780 - val_loss: 0.4847 - val_accuracy: 0.9045\n",
            "Epoch 174/1000\n",
            "26/40 [==================>...........] - ETA: 0s - loss: 0.8445 - accuracy: 0.6824\n",
            "Epoch 174: saving model to model/keypoint_classifier\\keypoint_classifier.hdf5\n",
            "40/40 [==============================] - 0s 4ms/step - loss: 0.8600 - accuracy: 0.6774 - val_loss: 0.4749 - val_accuracy: 0.9087\n",
            "Epoch 175/1000\n",
            "38/40 [===========================>..] - ETA: 0s - loss: 0.8374 - accuracy: 0.6924\n",
            "Epoch 175: saving model to model/keypoint_classifier\\keypoint_classifier.hdf5\n",
            "40/40 [==============================] - 0s 5ms/step - loss: 0.8381 - accuracy: 0.6924 - val_loss: 0.4724 - val_accuracy: 0.9093\n",
            "Epoch 176/1000\n",
            "27/40 [===================>..........] - ETA: 0s - loss: 0.8652 - accuracy: 0.6843\n",
            "Epoch 176: saving model to model/keypoint_classifier\\keypoint_classifier.hdf5\n",
            "40/40 [==============================] - 0s 6ms/step - loss: 0.8755 - accuracy: 0.6758 - val_loss: 0.4897 - val_accuracy: 0.9063\n",
            "Epoch 177/1000\n",
            "28/40 [====================>.........] - ETA: 0s - loss: 0.8544 - accuracy: 0.6889\n",
            "Epoch 177: saving model to model/keypoint_classifier\\keypoint_classifier.hdf5\n",
            "40/40 [==============================] - 0s 4ms/step - loss: 0.8668 - accuracy: 0.6762 - val_loss: 0.4741 - val_accuracy: 0.9081\n",
            "Epoch 178/1000\n",
            "28/40 [====================>.........] - ETA: 0s - loss: 0.8627 - accuracy: 0.6797\n",
            "Epoch 178: saving model to model/keypoint_classifier\\keypoint_classifier.hdf5\n",
            "40/40 [==============================] - 0s 4ms/step - loss: 0.8539 - accuracy: 0.6824 - val_loss: 0.4656 - val_accuracy: 0.9093\n",
            "Epoch 179/1000\n",
            "32/40 [=======================>......] - ETA: 0s - loss: 0.8602 - accuracy: 0.6851\n",
            "Epoch 179: saving model to model/keypoint_classifier\\keypoint_classifier.hdf5\n",
            "40/40 [==============================] - 0s 4ms/step - loss: 0.8565 - accuracy: 0.6891 - val_loss: 0.4555 - val_accuracy: 0.9075\n",
            "Epoch 180/1000\n",
            "31/40 [======================>.......] - ETA: 0s - loss: 0.8503 - accuracy: 0.6802\n",
            "Epoch 180: saving model to model/keypoint_classifier\\keypoint_classifier.hdf5\n",
            "40/40 [==============================] - 0s 4ms/step - loss: 0.8548 - accuracy: 0.6776 - val_loss: 0.4705 - val_accuracy: 0.9104\n",
            "Epoch 181/1000\n",
            "23/40 [================>.............] - ETA: 0s - loss: 0.8491 - accuracy: 0.6909\n",
            "Epoch 181: saving model to model/keypoint_classifier\\keypoint_classifier.hdf5\n",
            "40/40 [==============================] - 0s 5ms/step - loss: 0.8537 - accuracy: 0.6867 - val_loss: 0.4659 - val_accuracy: 0.9069\n",
            "Epoch 182/1000\n",
            "35/40 [=========================>....] - ETA: 0s - loss: 0.8249 - accuracy: 0.7054\n",
            "Epoch 182: saving model to model/keypoint_classifier\\keypoint_classifier.hdf5\n",
            "40/40 [==============================] - 0s 5ms/step - loss: 0.8390 - accuracy: 0.7004 - val_loss: 0.4668 - val_accuracy: 0.9110\n",
            "Epoch 183/1000\n",
            "27/40 [===================>..........] - ETA: 0s - loss: 0.8524 - accuracy: 0.6840\n",
            "Epoch 183: saving model to model/keypoint_classifier\\keypoint_classifier.hdf5\n",
            "40/40 [==============================] - 0s 4ms/step - loss: 0.8593 - accuracy: 0.6822 - val_loss: 0.4650 - val_accuracy: 0.9093\n",
            "Epoch 184/1000\n",
            "30/40 [=====================>........] - ETA: 0s - loss: 0.8503 - accuracy: 0.6815\n",
            "Epoch 184: saving model to model/keypoint_classifier\\keypoint_classifier.hdf5\n",
            "40/40 [==============================] - 0s 4ms/step - loss: 0.8500 - accuracy: 0.6818 - val_loss: 0.4797 - val_accuracy: 0.9027\n",
            "Epoch 185/1000\n",
            "22/40 [===============>..............] - ETA: 0s - loss: 0.8566 - accuracy: 0.6804\n",
            "Epoch 185: saving model to model/keypoint_classifier\\keypoint_classifier.hdf5\n",
            "40/40 [==============================] - 0s 4ms/step - loss: 0.8608 - accuracy: 0.6835 - val_loss: 0.4672 - val_accuracy: 0.9134\n",
            "Epoch 186/1000\n",
            "24/40 [=================>............] - ETA: 0s - loss: 0.8231 - accuracy: 0.6911\n",
            "Epoch 186: saving model to model/keypoint_classifier\\keypoint_classifier.hdf5\n",
            "40/40 [==============================] - 0s 4ms/step - loss: 0.8402 - accuracy: 0.6879 - val_loss: 0.4649 - val_accuracy: 0.9122\n",
            "Epoch 187/1000\n",
            "23/40 [================>.............] - ETA: 0s - loss: 0.8518 - accuracy: 0.6814\n",
            "Epoch 187: saving model to model/keypoint_classifier\\keypoint_classifier.hdf5\n",
            "40/40 [==============================] - 0s 4ms/step - loss: 0.8456 - accuracy: 0.6867 - val_loss: 0.4666 - val_accuracy: 0.9093\n",
            "Epoch 188/1000\n",
            "40/40 [==============================] - ETA: 0s - loss: 0.8580 - accuracy: 0.6833\n",
            "Epoch 188: saving model to model/keypoint_classifier\\keypoint_classifier.hdf5\n",
            "40/40 [==============================] - 0s 5ms/step - loss: 0.8580 - accuracy: 0.6833 - val_loss: 0.4655 - val_accuracy: 0.9104\n",
            "Epoch 189/1000\n",
            " 1/40 [..............................] - ETA: 0s - loss: 0.7386 - accuracy: 0.7266\n",
            "Epoch 189: saving model to model/keypoint_classifier\\keypoint_classifier.hdf5\n",
            "40/40 [==============================] - 0s 3ms/step - loss: 0.8396 - accuracy: 0.6833 - val_loss: 0.4595 - val_accuracy: 0.9081\n",
            "Epoch 190/1000\n",
            "29/40 [====================>.........] - ETA: 0s - loss: 0.8392 - accuracy: 0.6845\n",
            "Epoch 190: saving model to model/keypoint_classifier\\keypoint_classifier.hdf5\n",
            "40/40 [==============================] - 0s 4ms/step - loss: 0.8393 - accuracy: 0.6857 - val_loss: 0.4627 - val_accuracy: 0.9116\n",
            "Epoch 191/1000\n",
            "38/40 [===========================>..] - ETA: 0s - loss: 0.8591 - accuracy: 0.6828\n",
            "Epoch 191: saving model to model/keypoint_classifier\\keypoint_classifier.hdf5\n",
            "40/40 [==============================] - 0s 5ms/step - loss: 0.8591 - accuracy: 0.6830 - val_loss: 0.4700 - val_accuracy: 0.9093\n",
            "Epoch 192/1000\n",
            "27/40 [===================>..........] - ETA: 0s - loss: 0.8343 - accuracy: 0.6947\n",
            "Epoch 192: saving model to model/keypoint_classifier\\keypoint_classifier.hdf5\n",
            "40/40 [==============================] - 0s 4ms/step - loss: 0.8409 - accuracy: 0.6897 - val_loss: 0.4629 - val_accuracy: 0.9075\n",
            "Epoch 193/1000\n",
            "23/40 [================>.............] - ETA: 0s - loss: 0.8492 - accuracy: 0.6878\n",
            "Epoch 193: saving model to model/keypoint_classifier\\keypoint_classifier.hdf5\n",
            "40/40 [==============================] - 0s 4ms/step - loss: 0.8527 - accuracy: 0.6881 - val_loss: 0.4646 - val_accuracy: 0.9128\n",
            "Epoch 194/1000\n",
            "24/40 [=================>............] - ETA: 0s - loss: 0.8554 - accuracy: 0.6921\n",
            "Epoch 194: saving model to model/keypoint_classifier\\keypoint_classifier.hdf5\n",
            "40/40 [==============================] - 0s 4ms/step - loss: 0.8506 - accuracy: 0.6922 - val_loss: 0.4620 - val_accuracy: 0.9140\n",
            "Epoch 195/1000\n",
            "23/40 [================>.............] - ETA: 0s - loss: 0.8515 - accuracy: 0.6861\n",
            "Epoch 195: saving model to model/keypoint_classifier\\keypoint_classifier.hdf5\n",
            "40/40 [==============================] - 0s 5ms/step - loss: 0.8685 - accuracy: 0.6768 - val_loss: 0.4711 - val_accuracy: 0.9069\n",
            "Epoch 196/1000\n",
            "27/40 [===================>..........] - ETA: 0s - loss: 0.8828 - accuracy: 0.6725\n",
            "Epoch 196: saving model to model/keypoint_classifier\\keypoint_classifier.hdf5\n",
            "40/40 [==============================] - 0s 4ms/step - loss: 0.8658 - accuracy: 0.6758 - val_loss: 0.4774 - val_accuracy: 0.9045\n",
            "Epoch 197/1000\n",
            "27/40 [===================>..........] - ETA: 0s - loss: 0.8573 - accuracy: 0.6753\n",
            "Epoch 197: saving model to model/keypoint_classifier\\keypoint_classifier.hdf5\n",
            "40/40 [==============================] - 0s 4ms/step - loss: 0.8604 - accuracy: 0.6778 - val_loss: 0.4658 - val_accuracy: 0.9051\n",
            "Epoch 198/1000\n",
            "24/40 [=================>............] - ETA: 0s - loss: 0.8521 - accuracy: 0.6813\n",
            "Epoch 198: saving model to model/keypoint_classifier\\keypoint_classifier.hdf5\n",
            "40/40 [==============================] - 0s 5ms/step - loss: 0.8638 - accuracy: 0.6802 - val_loss: 0.4562 - val_accuracy: 0.9075\n",
            "Epoch 199/1000\n",
            "36/40 [==========================>...] - ETA: 0s - loss: 0.8585 - accuracy: 0.6879\n",
            "Epoch 199: saving model to model/keypoint_classifier\\keypoint_classifier.hdf5\n",
            "40/40 [==============================] - 0s 5ms/step - loss: 0.8563 - accuracy: 0.6881 - val_loss: 0.4599 - val_accuracy: 0.9146\n",
            "Epoch 199: early stopping\n"
          ]
        },
        {
          "data": {
            "text/plain": [
              "<keras.src.callbacks.History at 0x244306d24d0>"
            ]
          },
          "execution_count": 11,
          "metadata": {},
          "output_type": "execute_result"
        }
      ],
      "source": [
        "model.fit(\n",
        "    X_train,\n",
        "    y_train,\n",
        "    epochs=1000,\n",
        "    batch_size=128,\n",
        "    validation_data=(X_test, y_test),\n",
        "    callbacks=[cp_callback, es_callback]\n",
        ")"
      ]
    },
    {
      "cell_type": "code",
      "execution_count": 12,
      "metadata": {
        "colab": {
          "base_uri": "https://localhost:8080/"
        },
        "id": "pxvb2Y299hE3",
        "outputId": "59eb3185-2e37-4b9e-bc9d-ab1b8ac29b7f"
      },
      "outputs": [
        {
          "name": "stdout",
          "output_type": "stream",
          "text": [
            "14/14 [==============================] - 0s 5ms/step - loss: 0.4599 - accuracy: 0.9146\n"
          ]
        }
      ],
      "source": [
        "# Model evaluation\n",
        "val_loss, val_acc = model.evaluate(X_test, y_test, batch_size=128)"
      ]
    },
    {
      "cell_type": "code",
      "execution_count": 13,
      "metadata": {
        "id": "RBkmDeUW9hE4"
      },
      "outputs": [],
      "source": [
        "# Loading the saved model\n",
        "model = tf.keras.models.load_model(model_save_path)"
      ]
    },
    {
      "cell_type": "code",
      "execution_count": 14,
      "metadata": {
        "colab": {
          "base_uri": "https://localhost:8080/"
        },
        "id": "tFz9Tb0I9hE4",
        "outputId": "1c3b3528-54ae-4ee2-ab04-77429211cbef"
      },
      "outputs": [
        {
          "name": "stdout",
          "output_type": "stream",
          "text": [
            "1/1 [==============================] - 0s 104ms/step\n",
            "[8.46977115e-01 4.02320214e-02 1.08566965e-04 3.51641234e-03\n",
            " 3.46609019e-02 7.10356534e-02 3.46934330e-03]\n",
            "0\n"
          ]
        }
      ],
      "source": [
        "# Inference test\n",
        "predict_result = model.predict(np.array([X_test[0]]))\n",
        "print(np.squeeze(predict_result))\n",
        "print(np.argmax(np.squeeze(predict_result)))"
      ]
    },
    {
      "cell_type": "markdown",
      "metadata": {
        "id": "S3U4yNWx9hE4"
      },
      "source": [
        "# Confusion matrix"
      ]
    },
    {
      "cell_type": "code",
      "execution_count": 15,
      "metadata": {
        "colab": {
          "base_uri": "https://localhost:8080/",
          "height": 582
        },
        "id": "AP1V6SCk9hE5",
        "outputId": "08e41a80-7a4a-4619-8125-ecc371368d19"
      },
      "outputs": [
        {
          "name": "stdout",
          "output_type": "stream",
          "text": [
            "53/53 [==============================] - 0s 1ms/step\n"
          ]
        },
        {
          "data": {
            "image/png": "[encoded data removed]",
            "text/plain": [
              "<Figure size 700x600 with 2 Axes>"
            ]
          },
          "metadata": {},
          "output_type": "display_data"
        },
        {
          "name": "stdout",
          "output_type": "stream",
          "text": [
            "Classification Report\n",
            "              precision    recall  f1-score   support\n",
            "\n",
            "           0       0.96      0.98      0.97       402\n",
            "           1       0.82      0.93      0.87       377\n",
            "           2       0.91      0.99      0.95       338\n",
            "           3       0.92      1.00      0.96        70\n",
            "           4       0.97      0.90      0.93       155\n",
            "           5       0.95      0.65      0.77       195\n",
            "           6       0.98      0.87      0.92       149\n",
            "\n",
            "    accuracy                           0.91      1686\n",
            "   macro avg       0.93      0.90      0.91      1686\n",
            "weighted avg       0.92      0.91      0.91      1686\n",
            "\n"
          ]
        }
      ],
      "source": [
        "import pandas as pd\n",
        "import seaborn as sns\n",
        "import matplotlib.pyplot as plt\n",
        "from sklearn.metrics import confusion_matrix, classification_report\n",
        "\n",
        "def print_confusion_matrix(y_true, y_pred, report=True):\n",
        "    labels = sorted(list(set(y_true)))\n",
        "    cmx_data = confusion_matrix(y_true, y_pred, labels=labels)\n",
        "    \n",
        "    df_cmx = pd.DataFrame(cmx_data, index=labels, columns=labels)\n",
        " \n",
        "    fig, ax = plt.subplots(figsize=(7, 6))\n",
        "    sns.heatmap(df_cmx, annot=True, fmt='g' ,square=False)\n",
        "    ax.set_ylim(len(set(y_true)), 0)\n",
        "    plt.show()\n",
        "    \n",
        "    if report:\n",
        "        print('Classification Report')\n",
        "        print(classification_report(y_test, y_pred))\n",
        "\n",
        "Y_pred = model.predict(X_test)\n",
        "y_pred = np.argmax(Y_pred, axis=1)\n",
        "\n",
        "print_confusion_matrix(y_test, y_pred)"
      ]
    },
    {
      "cell_type": "markdown",
      "metadata": {
        "id": "FNP6aqzc9hE5"
      },
      "source": [
        "# Convert to model for Tensorflow-Lite"
      ]
    },
    {
      "cell_type": "code",
      "execution_count": 16,
      "metadata": {
        "id": "ODjnYyld9hE6"
      },
      "outputs": [
        {
          "name": "stderr",
          "output_type": "stream",
          "text": [
            "c:\\Users\\hamma\\AppData\\Local\\Programs\\Python\\Python311\\Lib\\site-packages\\keras\\src\\engine\\training.py:3000: UserWarning: You are saving your model as an HDF5 file via `model.save()`. This file format is considered legacy. We recommend using instead the native Keras format, e.g. `model.save('my_model.keras')`.\n",
            "  saving_api.save_model(\n"
          ]
        }
      ],
      "source": [
        "# Save as a model dedicated to inference\n",
        "model.save(model_save_path, include_optimizer=False)"
      ]
    },
    {
      "cell_type": "code",
      "execution_count": 17,
      "metadata": {
        "colab": {
          "base_uri": "https://localhost:8080/"
        },
        "id": "zRfuK8Y59hE6",
        "outputId": "a4ca585c-b5d5-4244-8291-8674063209bb"
      },
      "outputs": [
        {
          "name": "stdout",
          "output_type": "stream",
          "text": [
            "INFO:tensorflow:Assets written to: C:\\Users\\hamma\\AppData\\Local\\Temp\\tmp2laygvrc\\assets\n"
          ]
        },
        {
          "name": "stderr",
          "output_type": "stream",
          "text": [
            "INFO:tensorflow:Assets written to: C:\\Users\\hamma\\AppData\\Local\\Temp\\tmp2laygvrc\\assets\n"
          ]
        },
        {
          "data": {
            "text/plain": [
              "6676"
            ]
          },
          "execution_count": 17,
          "metadata": {},
          "output_type": "execute_result"
        }
      ],
      "source": [
        "# Transform model (quantization)\n",
        "\n",
        "converter = tf.lite.TFLiteConverter.from_keras_model(model)\n",
        "converter.optimizations = [tf.lite.Optimize.DEFAULT]\n",
        "tflite_quantized_model = converter.convert()\n",
        "\n",
        "open(tflite_save_path, 'wb').write(tflite_quantized_model)"
      ]
    },
    {
      "cell_type": "markdown",
      "metadata": {
        "id": "CHBPBXdx9hE6"
      },
      "source": [
        "# Inference test"
      ]
    },
    {
      "cell_type": "code",
      "execution_count": 18,
      "metadata": {
        "id": "mGAzLocO9hE7"
      },
      "outputs": [],
      "source": [
        "interpreter = tf.lite.Interpreter(model_path=tflite_save_path)\n",
        "interpreter.allocate_tensors()"
      ]
    },
    {
      "cell_type": "code",
      "execution_count": 19,
      "metadata": {
        "id": "oQuDK8YS9hE7"
      },
      "outputs": [],
      "source": [
        "# Get I / O tensor\n",
        "input_details = interpreter.get_input_details()\n",
        "output_details = interpreter.get_output_details()"
      ]
    },
    {
      "cell_type": "code",
      "execution_count": 20,
      "metadata": {
        "id": "2_ixAf_l9hE7"
      },
      "outputs": [],
      "source": [
        "interpreter.set_tensor(input_details[0]['index'], np.array([X_test[0]]))"
      ]
    },
    {
      "cell_type": "code",
      "execution_count": 21,
      "metadata": {
        "colab": {
          "base_uri": "https://localhost:8080/"
        },
        "id": "s4FoAnuc9hE7",
        "outputId": "91f18257-8d8b-4ef3-c558-e9b5f94fabbf",
        "scrolled": true
      },
      "outputs": [
        {
          "name": "stdout",
          "output_type": "stream",
          "text": [
            "CPU times: total: 0 ns\n",
            "Wall time: 0 ns\n"
          ]
        }
      ],
      "source": [
        "%%time\n",
        "# Inference implementation\n",
        "interpreter.invoke()\n",
        "tflite_results = interpreter.get_tensor(output_details[0]['index'])"
      ]
    },
    {
      "cell_type": "code",
      "execution_count": 22,
      "metadata": {
        "colab": {
          "base_uri": "https://localhost:8080/"
        },
        "id": "vONjp19J9hE8",
        "outputId": "77205e24-fd00-42c4-f7b6-e06e527c2cba"
      },
      "outputs": [
        {
          "name": "stdout",
          "output_type": "stream",
          "text": [
            "[8.4697723e-01 4.0231984e-02 1.0856687e-04 3.5164144e-03 3.4660902e-02\n",
            " 7.1035549e-02 3.4693454e-03]\n",
            "0\n"
          ]
        }
      ],
      "source": [
        "print(np.squeeze(tflite_results))\n",
        "print(np.argmax(np.squeeze(tflite_results)))"
      ]
    }
  ],
  "metadata": {
    "accelerator": "GPU",
    "colab": {
      "collapsed_sections": [],
      "name": "keypoint_classification_EN.ipynb",
      "provenance": [],
      "toc_visible": true
    },
    "kernelspec": {
      "display_name": "Python 3",
      "language": "python",
      "name": "python3"
    },
    "language_info": {
      "codemirror_mode": {
        "name": "ipython",
        "version": 3
      },
      "file_extension": ".py",
      "mimetype": "text/x-python",
      "name": "python",
      "nbconvert_exporter": "python",
      "pygments_lexer": "ipython3",
      "version": "3.11.2"
    }
  },
  "nbformat": 4,
  "nbformat_minor": 0
}
